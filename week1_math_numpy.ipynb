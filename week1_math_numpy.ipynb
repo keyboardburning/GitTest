{
 "cells": [
  {
   "cell_type": "markdown",
   "metadata": {},
   "source": [
    "numpy 数据类型 \n",
    "bool  : false true\n",
    "int_  : (long int32 ,int64)\n",
    "intc : int32 int64\n",
    "intp : 索引的整数类型 （c size_t）\n",
    "int8 : -128 to 127\n",
    "int16 : -2^15-1  to 2^15-1\n",
    "int32 : -2^32-1 to 2^32-1\n",
    "int64: \n",
    "unit8: 无符号整数 [0,2^8-1]\n",
    "unit16: [0,2^16-1]\n",
    "unit32\n",
    "unit64\n",
    "float_ : float64\n",
    "float16 : 半精度浮点数 ： 符号位1个，指数为5个，尾数10个\n",
    "float32 : 单精度浮点数 ： 符号位1 个，指数位8个，尾数23个\n",
    "float64:  双精度浮点数 ： 符号位1个，指数位11个，尾数53个\n",
    "complex_ : complex128 : 128 位复数\n",
    "complex64 ： 双32位浮点数 （实数+ 虚数）\n",
    "complex128 : 双64位浮点数"
   ]
  },
  {
   "cell_type": "code",
   "execution_count": 2,
   "metadata": {},
   "outputs": [],
   "source": [
    "import numpy as np\n",
    "# 全局导包"
   ]
  },
  {
   "cell_type": "code",
   "execution_count": 6,
   "metadata": {},
   "outputs": [
    {
     "name": "stdout",
     "output_type": "stream",
     "text": [
      "[0 1 2 3 4 5 6 7 8] <class 'numpy.ndarray'>\n",
      "[0. 1. 2. 3. 4. 5. 6. 7. 8.] <class 'numpy.ndarray'>\n",
      "[False  True  True  True  True  True  True  True  True] <class 'numpy.ndarray'>\n",
      "[0.+0.j 1.+0.j 1.+0.j 1.+0.j 1.+0.j 1.+0.j 1.+0.j 1.+0.j 1.+0.j] <class 'numpy.ndarray'>\n"
     ]
    }
   ],
   "source": [
    "# 创建一维不同类型数组\n",
    "array_list = [0,1,2,3,4,5,6,7,8]\n",
    "# int \n",
    "array_np = np.array(array_list)\n",
    "print(array_np,type(array_np))\n",
    "#float\n",
    "array_np = np.array(array_list,float)\n",
    "print(array_np,type(array_np))\n",
    "# boolean\n",
    "array_np = np.array(array_list,bool)\n",
    "print(array_np,type(array_np))\n",
    "# complex\n",
    "array_np = np.array(array_np,complex)\n",
    "print(array_np,type(array_np))"
   ]
  },
  {
   "cell_type": "code",
   "execution_count": 9,
   "metadata": {},
   "outputs": [
    {
     "name": "stdout",
     "output_type": "stream",
     "text": [
      "[[  1   2   3]\n",
      " [  4   7   8]\n",
      " [  9 100  88]]\n",
      "[[  1.   2.   3.]\n",
      " [  4.   7.   8.]\n",
      " [  9. 100.  88.]\n",
      " [  9. 100. 111.]]\n"
     ]
    }
   ],
   "source": [
    "# 二维数组 [(),(),()]\n",
    "# n 维 数组  \n",
    "array_row1 = (1,2,3)\n",
    "array_row2 = (4,7,8)\n",
    "array_row3 = (9,100,88)\n",
    "array_row3_col3= np.array([array_row1,array_row2,array_row3])\n",
    "print(array_row3_col3)\n",
    "# m.n 维数组\n",
    "array_row1 = (1,2,3)\n",
    "array_row2 = (4,7,8)\n",
    "array_row3 = (9,100,88)\n",
    "array_row4 = (9,100,111)\n",
    "array_row4_col3= np.array([array_row1,array_row2,array_row3,array_row4],float)\n",
    "print(array_row4_col3)\n",
    "# 多维数组"
   ]
  },
  {
   "cell_type": "code",
   "execution_count": 15,
   "metadata": {},
   "outputs": [
    {
     "name": "stdout",
     "output_type": "stream",
     "text": [
      "(2, 3)\n",
      "[[0. 0. 0.]\n",
      " [0. 0. 0.]]\n",
      "(3, 3)\n",
      "[[1.+0.j 1.+0.j 1.+0.j]\n",
      " [1.+0.j 1.+0.j 1.+0.j]\n",
      " [1.+0.j 1.+0.j 1.+0.j]]\n",
      "[1.  1.5 2.  2.5 3.  3.5 4.  4.5]\n",
      "<class 'numpy.ndarray'>\n",
      "[[1 0 0 0]\n",
      " [0 1 0 0]\n",
      " [0 0 1 0]\n",
      " [0 0 0 1]]\n",
      "[[1. 0. 0. 0.]\n",
      " [0. 1. 0. 0.]\n",
      " [0. 0. 1. 0.]\n",
      " [0. 0. 0. 1.]]\n",
      "[0.64389997 0.38295693 0.73893085 0.53682321 0.7130833  0.43117375\n",
      " 0.88361883 0.20383966]\n",
      "[5 8 7 7 6 8 9 8 2 4]\n",
      "[1.07630106 1.15778379 0.79265161 0.95871532 1.10824455]\n"
     ]
    }
   ],
   "source": [
    "#特殊矩阵\n",
    "# 0 矩阵\n",
    "zero_matrix = np.zeros(shape=(2,3),dtype=float)\n",
    "print(zero_matrix.shape)\n",
    "print(zero_matrix)\n",
    "# 1 矩阵\n",
    "one_matrix = np.ones(shape=(3,3),dtype=complex)\n",
    "print(one_matrix.shape)\n",
    "print(one_matrix)\n",
    "# arange  等差数组\n",
    "ap_array = np.arange(1,5,0.5)\n",
    "print(ap_array)\n",
    "print(type(ap_array))\n",
    "# 单位矩阵\n",
    "identity_matrix = np.eye(4,dtype=int)\n",
    "print(identity_matrix)\n",
    "# 默认 float\n",
    "identity_matrix = np.eye(4)\n",
    "print(identity_matrix)\n",
    "\n",
    "# random [0,1） \n",
    "# 平均分布数组\n",
    "array_np = np.random.random(8)\n",
    "print(array_np)\n",
    "# 随机范围整数\n",
    "array_np = np.random.randint(1,10,10)\n",
    "print(array_np)\n",
    "# 正态分布的随机数组  均值mu  标准差sigma\n",
    "mu,sigma = 1,0.1\n",
    "array_normal = np.random.normal(mu,sigma,5)\n",
    "print(array_normal)"
   ]
  },
  {
   "cell_type": "code",
   "execution_count": 22,
   "metadata": {},
   "outputs": [
    {
     "name": "stdout",
     "output_type": "stream",
     "text": [
      "[[ 1  2  3]\n",
      " [ 4  5  6]\n",
      " [ 9 10 12]]\n",
      "[1 2 3]\n",
      "[[ 4  5  6]\n",
      " [ 9 10 12]]\n",
      "(2, 3)\n",
      "[[1]\n",
      " [4]\n",
      " [9]]\n",
      "[[1]\n",
      " [4]]\n",
      "10\n"
     ]
    }
   ],
   "source": [
    "# numpy 数组访问\n",
    "# 生成式\n",
    "array_np = np.array([(1,2,3),(4,5,6),(9,10,12)])\n",
    "print(array_np)\n",
    "print(array_np[0])\n",
    "# 剩余矩阵  切片？\n",
    "print(array_np[1:]) \n",
    "print(array_np[1:].shape)\n",
    "# 先行后列\n",
    "print(array_np[:,:1])\n",
    "print(array_np[:2,:1])\n",
    "# 固定数值\n",
    "print(array_np[2][1])\n"
   ]
  },
  {
   "cell_type": "code",
   "execution_count": null,
   "metadata": {},
   "outputs": [
    {
     "name": "stdout",
     "output_type": "stream",
     "text": [
      "1\n",
      "2\n",
      "3\n",
      "4\n",
      "5\n",
      "6\n",
      "[[1 2]\n",
      " [2 3]\n",
      " [4 5]]\n",
      "1 2\n",
      "2 3\n",
      "4 5\n",
      "[[1 2 3]\n",
      " [4 5 6]\n",
      " [7 8 9]]\n",
      "1 2 3\n",
      "4 5 6\n",
      "7 8 9\n"
     ]
    }
   ],
   "source": [
    "# 数组遍历\n",
    "# 一唯数组  \n",
    "# array_one = np.array([1,2,3,4,5,6])\n",
    "array_one = np.arange(1,7,1)\n",
    "for row in array_one:\n",
    "    print(row)\n",
    "# 二维数组\n",
    "array_two = np.array([[1,2],[2,3],[4,5]])\n",
    "print(array_two)\n",
    "for row_num1,row_num2 in array_two:\n",
    "    print(row_num1,row_num2)\n",
    "# 三维数组\n",
    "array_three = np.array([(1,2,3),(4,5,6),(7,8,9)])\n",
    "print(array_three)\n",
    "# unpack  解包对应（1,2,3） 个数\n",
    "# for row_num1,row_num2 in array_three:\n",
    "#     print(row_num1,row_num2)\n",
    "for row_num1,row_num2,row_num3 in array_three:\n",
    "    print(row_num1,row_num2,row_num3)\n",
    "# 多维解包不方便"
   ]
  },
  {
   "cell_type": "code",
   "execution_count": null,
   "metadata": {},
   "outputs": [
    {
     "name": "stdout",
     "output_type": "stream",
     "text": [
      "[70 27 23 75  7 93 75 41 51 93] <class 'numpy.ndarray'>\n",
      "(70, 27, 23, 75, 7, 93, 75, 41, 51, 93) <class 'tuple'>\n",
      "[[37 67 14 95 88 15 94 21  4 64]\n",
      " [26 95 31 85 22 47 20 38 19  1]\n",
      " [39 78 26 58 17 33 18 11 86 64]]\n",
      "ndim 2\n",
      "shape (3, 10)\n",
      "size 30\n",
      "dtype int32\n"
     ]
    }
   ],
   "source": [
    "# numpy 数组的属性\n",
    "row_num = np.random.randint(1,99,10)\n",
    "print(row_num,type(row_num))\n",
    "row_num = tuple(row_num)\n",
    "print(row_num,type(row_num))\n",
    "array_matrix = np.array([tuple(np.random.randint(1,99,10)) for i in range(3)])\n",
    "print(array_matrix)\n",
    "# ndim 秩   数组的维度 (dimension)（数组轴的个数） rank\n",
    "print(\"ndim\",array_matrix.ndim)\n",
    "# shape  行数 列数\n",
    "print(\"shape\",array_matrix.shape)\n",
    "# size  数组元素总个数   rows*cols\n",
    "print(\"size\",array_matrix.size)\n",
    "# dtype  数组中的元素类型的对象\n",
    "print(\"dtype\",array_matrix.dtype)"
   ]
  },
  {
   "cell_type": "code",
   "execution_count": 50,
   "metadata": {},
   "outputs": [
    {
     "name": "stdout",
     "output_type": "stream",
     "text": [
      "True\n",
      "[[[0. 0. 0.]\n",
      "  [0. 0. 0.]\n",
      "  [0. 0. 0.]]\n",
      "\n",
      " [[0. 0. 0.]\n",
      "  [0. 0. 0.]\n",
      "  [0. 0. 0.]]\n",
      "\n",
      " [[0. 0. 0.]\n",
      "  [0. 0. 0.]\n",
      "  [0. 0. 0.]]]\n",
      "27\n",
      "(4, 3)\n",
      "[[7 7 3]\n",
      " [7 9 3]\n",
      " [9 5 8]\n",
      " [2 2 4]]\n",
      "[[7 7 9 2]\n",
      " [7 9 5 2]\n",
      " [3 3 8 4]]\n",
      "(3, 4)\n",
      "(4, 3)\n",
      "(6,)\n",
      "[1 2 3 4 5 6]\n",
      "shape_before (3, 2)\n",
      "shape_after (3, 1, 2)\n",
      "[[[1 2]]\n",
      "\n",
      " [[3 4]]\n",
      "\n",
      " [[5 6]]]\n",
      "shape_after (3, 2, 1)\n",
      "[[[1]\n",
      "  [2]]\n",
      "\n",
      " [[3]\n",
      "  [4]]\n",
      "\n",
      " [[5]\n",
      "  [6]]]\n"
     ]
    }
   ],
   "source": [
    "# numpy 数组操作\n",
    "array_matrix = np.array([(1,2),(3,4)])\n",
    "# 数值存在  in  维度越大 耗时越大\n",
    "print(3 in array_matrix)\n",
    "# reshape 数组重排列  个数保持不变\n",
    "zero_array = np.zeros(shape=(3,3,3))\n",
    "print(zero_array)\n",
    "print(zero_array.size)\n",
    "# reshape 暂时存在\n",
    "zero_array.reshape(zero_array.size)\n",
    "# 转置 行列互换  traspose  .T\n",
    "numpy_array = np.array([tuple(np.random.randint(1,10,3)) for i in range(4)])\n",
    "print(numpy_array.shape)\n",
    "print(numpy_array)\n",
    "transpose_array = numpy_array.transpose()\n",
    "print(transpose_array)\n",
    "print(transpose_array.shape)\n",
    "#  转置转置等于本身\n",
    "print(transpose_array.T.shape)\n",
    "# 线性代数 相关知识\n",
    " \n",
    "# flatten  多维变成一维数组  ，每个元组长度相同\n",
    "array_np = np.array([(1,2),(3,4),(5,6)])\n",
    "array_flatten = array_np.flatten()\n",
    "print(array_flatten.shape)\n",
    "print(array_flatten)\n",
    "\n",
    "# newaxis ： 增加维度\n",
    "print(\"shape_before\",array_np.shape)\n",
    "array_newaxis = array_np[:,np.newaxis]\n",
    "print(\"shape_after\",array_newaxis.shape)\n",
    "print(array_newaxis)\n",
    "\n",
    "array_newaxis = array_np[:,:,np.newaxis]\n",
    "print(\"shape_after\",array_newaxis.shape)\n",
    "print(array_newaxis)"
   ]
  },
  {
   "cell_type": "code",
   "execution_count": null,
   "metadata": {},
   "outputs": [
    {
     "name": "stdout",
     "output_type": "stream",
     "text": [
      "[[1. 1.]\n",
      " [1. 1.]]\n",
      "[[-1 -1]\n",
      " [ 1  1]]\n",
      "[[-1. -1.]\n",
      " [ 1.  1.]]\n",
      "[[2. 2.]\n",
      " [0. 0.]]\n",
      "[[0. 0.]\n",
      " [2. 2.]]\n",
      "[[-1. -1.]\n",
      " [ 1.  1.]]\n",
      "4.0\n",
      "0\n",
      "1.0\n",
      "1\n",
      "mean 1.0\n",
      "var 0.0\n",
      "std 0.0\n",
      "max 1.0\n",
      "min 1.0\n",
      "argmax 0\n",
      "argmin 0\n",
      "ceil [[1. 1.]\n",
      " [1. 1.]]\n",
      "floor [[1. 1.]\n",
      " [1. 1.]]\n",
      "rint [[1. 1.]\n",
      " [1. 1.]]\n",
      "None\n"
     ]
    }
   ],
   "source": [
    "# 数学操作\n",
    "# 加减乘除  满足运算的规则\n",
    "# * + - /\n",
    "array_a = np.ones((2,2))\n",
    "array_b = np.array([(-1,-1),(1,1)])\n",
    "print(array_a)\n",
    "print(array_b)\n",
    "print(array_a * array_b)\n",
    "print(array_a - array_b)\n",
    "print(array_a + array_b)\n",
    "print(array_a / array_b)\n",
    "# dytype : 浮点型数据 \n",
    "\n",
    "#  求和   sum 类似对象内部\n",
    "print(array_a.sum())\n",
    "print(array_b.sum())\n",
    "#  求积  prod\n",
    "print(array_a.prod())\n",
    "print(array_b.prod())\n",
    "# 平均数  方差 标准差  最大值  最小值\n",
    "print(\"mean\",array_a.mean())\n",
    "print(\"var\",array_a.var())\n",
    "print(\"std\",array_a.std())\n",
    "print(\"max\",array_a.max())\n",
    "print(\"min\",array_a.min())\n",
    "# 最大值的索引值 argmax 最小值的索引值 argmin  \n",
    "print(\"argmax\",array_a.argmax())\n",
    "print(\"argmin\",array_a.argmin())\n",
    "# 取元素的上限、 下限 ceil floor\n",
    "print(\"ceil\",np.ceil(array_a))\n",
    "print(\"floor\",np.floor(array_a))\n",
    "# 四舍五入 rint\n",
    "print(\"rint\",np.rint(array_a))\n",
    "\n",
    "# 排序\n",
    "arrary_a = np.array([5,676,4334,232,12,45])\n",
    "print(arrary_a.sort())\n"
   ]
  },
  {
   "cell_type": "code",
   "execution_count": 63,
   "metadata": {},
   "outputs": [
    {
     "name": "stdout",
     "output_type": "stream",
     "text": [
      "[[1 2]\n",
      " [3 4]]\n",
      "[[-1 -1]\n",
      " [-1 -1]]\n"
     ]
    }
   ],
   "source": [
    " # abs 绝对值\n",
    "array_np = np.array([(-1,-2),(-3,-4)])\n",
    "array_num = np.abs(array_np)\n",
    "print(array_num)\n",
    "# sign \n",
    "array_num = np.sign(array_np)\n",
    "print(array_num)\n",
    "# sqrt, log,log10, exp, sin, cos, tan, arcsin, arccos, arctan, sinh, cosh, tanh,arcsinh, arccosh,arctanh"
   ]
  },
  {
   "cell_type": "code",
   "execution_count": 72,
   "metadata": {},
   "outputs": [
    {
     "name": "stdout",
     "output_type": "stream",
     "text": [
      "[[22. 25.]\n",
      " [50. 57.]]\n",
      "[[22. 25.]\n",
      " [50. 57.]]\n",
      "2.0\n",
      "inv [[ 1.          1.          0.        ]\n",
      " [ 0.33333333  1.         -0.33333333]\n",
      " [ 0.66666667  1.         -0.66666667]]\n",
      "det -3.0000000000000004\n",
      "A_bansui [[-3. -3. -0.]\n",
      " [-1. -3.  1.]\n",
      " [-2. -3.  2.]]\n",
      "[ 7.  1. -2.]\n",
      "[ 7.  7. 18.]\n"
     ]
    }
   ],
   "source": [
    "# 内积  dot\n",
    "# 对于多维数组，它的通⽤计算公式如下，即结果数组中的每个元素都是：数组 a 的最后⼀维上的所有元素与数组 b 的倒数第⼆位上的所有元素的乘积和：\n",
    "# dot(a, b)[i,j,k,m]= sum(a[i,j,:] * b[k,:,m])\n",
    "import numpy as np \n",
    "array_a = np.array([[1,2],[3,4]],dtype=np.float32)\n",
    "array_b = np.array([[6,7],[8,9]],dtype=np.float32)\n",
    "#dot\n",
    "result = np.dot(array_a,array_b)\n",
    "print(result)\n",
    "\n",
    "# @\n",
    "result = array_a @ array_b\n",
    "print(result)\n",
    "\n",
    "# trace : 矩阵的迹\n",
    "print(np.trace(np.ones((2,2))))\n",
    "# eig  特征值  特征向量\n",
    "# 只有方阵才能进行特征值分解\n",
    "# e_vals,e_vecs = np.linalg.eig(a)\n",
    "\n",
    "# inv 逆\n",
    "A = np.array([[1, -2, 1], [0, 2, -1], [1, 1, -2]])\n",
    "B = np.linalg.inv(A)\n",
    "print(\"inv\",B)\n",
    "# 使用 linalg.det求得方阵的行列式\n",
    "A_abs = np.linalg.det(A)\n",
    "print(\"det\",A_abs)\n",
    "# 伴随矩阵 A*= |A| A-\n",
    "A_bansui = B * A_abs\n",
    "print(\"A_bansui\",A_bansui)\n",
    "\n",
    "\n",
    "# qr  QR 分解\n",
    "\n",
    "# svd  奇异值分解\n",
    "\n",
    "# solve ： 解线性方程 Ax=b \n",
    "a = np.array([[1, 2, 1], [2, -1, 3], [3, 1, 2]])\n",
    "b = np.array([7,7,18])\n",
    "# 使用 linalg.solve 方法解方程，参数a指的是系数矩阵，参数b指的是常数项矩阵\n",
    "result = np.linalg.solve(a,b)\n",
    "print(result)\n",
    "# 结果验证\n",
    "print(np.dot(a,result))\n",
    "# lstsq  计算Ax=b 的最小二乘解\n",
    "\n"
   ]
  },
  {
   "cell_type": "code",
   "execution_count": null,
   "metadata": {},
   "outputs": [
    {
     "name": "stdout",
     "output_type": "stream",
     "text": [
      "[[ 8  9 19]\n",
      " [ 9  6 21]\n",
      " [10  8 20]]\n"
     ]
    }
   ],
   "source": [
    "# numpy 广播机制\n",
    "# ⼴播 (Broadcast) 是 numpy 对不同形状 (shape) 的数组进⾏数值计算的⽅式，对数组的算术运算通常在相应的元素上进⾏。如果两个数组 a 和 b 形状相同，即满⾜\n",
    "# a.shape == b.shape，那么 a*b 的结果就是 a 与 b 数组对应位相乘。这要求维数相同，且各维度的⻓度相同。\n",
    "# 当运算中的 2 个数组的形状不同时，numpy 将⾃动触发⼴播机制\n",
    "arrary_a = np.array([(1,2),(2,3),(1,2),(2,3)])\n",
    "arrary_b = np.array([-1,1])\n",
    "# shape(2) -> shape(1,2) --> shape(4,2)\n",
    "print(arrary_a+array_b)"
   ]
  },
  {
   "cell_type": "code",
   "execution_count": null,
   "metadata": {},
   "outputs": [],
   "source": []
  }
 ],
 "metadata": {
  "kernelspec": {
   "display_name": "py312",
   "language": "python",
   "name": "python3"
  },
  "language_info": {
   "codemirror_mode": {
    "name": "ipython",
    "version": 3
   },
   "file_extension": ".py",
   "mimetype": "text/x-python",
   "name": "python",
   "nbconvert_exporter": "python",
   "pygments_lexer": "ipython3",
   "version": "3.12.9"
  }
 },
 "nbformat": 4,
 "nbformat_minor": 2
}
